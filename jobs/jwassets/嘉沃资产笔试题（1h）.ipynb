{
 "cells": [
  {
   "cell_type": "markdown",
   "metadata": {
    "id": "u34f_1xf2Fxe"
   },
   "source": [
    "# 嘉沃资管量化研究员笔试题"
   ]
  },
  {
   "cell_type": "markdown",
   "metadata": {
    "id": "IW_aO1G92Fxk"
   },
   "source": [
    "注意事项：\n",
    "1. 整套题目回答时间为1小时,共计7道题，每道题基础分值为10分，满分100分【部分题目根据回答情况会有加分项，但请合理安排时间！】\n",
    "2. 回答问题的编程语言统一使用Python3,可以调用第三方库来解答问题\n",
    "3. 笔试题目在该jupyter notebook中规定位置作答，可以在【Ans】与下一题题干之间根据自身编程习惯插入代码块及文字补充说明\n",
    "4. 完成题目时允许参考书籍或网络资料，但请不要照搬代码\n",
    "5. 作答完成后，通过邮件提交该notebook文件：命名格式为：提交日期+姓名.ipynb"
   ]
  },
  {
   "cell_type": "code",
   "execution_count": 1,
   "metadata": {
    "id": "S8frIP622Fxl"
   },
   "outputs": [],
   "source": [
    "# 作答之前先import库\n",
    "import pandas as pd\n",
    "import numpy as np"
   ]
  },
  {
   "cell_type": "markdown",
   "metadata": {
    "id": "FlMIgtKw2Fxn"
   },
   "source": [
    "### 1. 将以下python语句用一行python命令改写，要求输出内容一致"
   ]
  },
  {
   "cell_type": "code",
   "execution_count": 2,
   "metadata": {
    "colab": {
     "base_uri": "https://localhost:8080/"
    },
    "id": "UGPDCH-_2Fxo",
    "outputId": "08c99d12-b9ef-42bb-8e90-56ab64febb94"
   },
   "outputs": [
    {
     "name": "stdout",
     "output_type": "stream",
     "text": [
      "[2002, 2009, 2016, 2023, 2037, 2044, 2051, 2058, 2072, 2079, 2086, 2093, 2107, 2114, 2121, 2128, 2142, 2149, 2156, 2163, 2177, 2184, 2191, 2198, 2212, 2219, 2226, 2233, 2247, 2254, 2261, 2268, 2282, 2289, 2296, 2303, 2317, 2324, 2331, 2338, 2352, 2359, 2366, 2373, 2387, 2394, 2401, 2408, 2422, 2429, 2436, 2443, 2457, 2464, 2471, 2478, 2492, 2499, 2506, 2513, 2527, 2534, 2541, 2548, 2562, 2569, 2576, 2583, 2597, 2604, 2611, 2618, 2632, 2639, 2646, 2653, 2667, 2674, 2681, 2688, 2702, 2709, 2716, 2723, 2737, 2744, 2751, 2758, 2772, 2779, 2786, 2793, 2807, 2814, 2821, 2828, 2842, 2849, 2856, 2863, 2877, 2884, 2891, 2898, 2912, 2919, 2926, 2933, 2947, 2954, 2961, 2968, 2982, 2989, 2996, 3003, 3017, 3024, 3031, 3038, 3052, 3059, 3066, 3073, 3087, 3094, 3101, 3108, 3122, 3129, 3136, 3143, 3157, 3164, 3171, 3178, 3192, 3199]\n"
     ]
    }
   ],
   "source": [
    "lst = []\n",
    "\n",
    "i = 2000\n",
    "while i <= 3200:\n",
    "    if i%7 == 0:\n",
    "        if i%5 != 0: \n",
    "            lst.append(i)\n",
    "    i = i + 1\n",
    "        \n",
    "print(lst)"
   ]
  },
  {
   "cell_type": "markdown",
   "metadata": {
    "id": "V3HCYkZ32Fxp"
   },
   "source": [
    "### 【Ans】1"
   ]
  },
  {
   "cell_type": "code",
   "execution_count": 3,
   "metadata": {
    "colab": {
     "base_uri": "https://localhost:8080/"
    },
    "id": "QmUCHLmf2Fxq",
    "outputId": "0240ef7c-6a6e-4c45-af9b-6a778a44c499"
   },
   "outputs": [
    {
     "name": "stdout",
     "output_type": "stream",
     "text": [
      "[2002, 2009, 2016, 2023, 2037, 2044, 2051, 2058, 2072, 2079, 2086, 2093, 2107, 2114, 2121, 2128, 2142, 2149, 2156, 2163, 2177, 2184, 2191, 2198, 2212, 2219, 2226, 2233, 2247, 2254, 2261, 2268, 2282, 2289, 2296, 2303, 2317, 2324, 2331, 2338, 2352, 2359, 2366, 2373, 2387, 2394, 2401, 2408, 2422, 2429, 2436, 2443, 2457, 2464, 2471, 2478, 2492, 2499, 2506, 2513, 2527, 2534, 2541, 2548, 2562, 2569, 2576, 2583, 2597, 2604, 2611, 2618, 2632, 2639, 2646, 2653, 2667, 2674, 2681, 2688, 2702, 2709, 2716, 2723, 2737, 2744, 2751, 2758, 2772, 2779, 2786, 2793, 2807, 2814, 2821, 2828, 2842, 2849, 2856, 2863, 2877, 2884, 2891, 2898, 2912, 2919, 2926, 2933, 2947, 2954, 2961, 2968, 2982, 2989, 2996, 3003, 3017, 3024, 3031, 3038, 3052, 3059, 3066, 3073, 3087, 3094, 3101, 3108, 3122, 3129, 3136, 3143, 3157, 3164, 3171, 3178, 3192, 3199]\n"
     ]
    }
   ],
   "source": [
    "cp_list = [i for i in range(2000,3201) if i%7 == 0 and i%5 != 0]\n",
    "print(cp_list)"
   ]
  },
  {
   "cell_type": "markdown",
   "metadata": {
    "id": "SCagwzAC2Fxr"
   },
   "source": [
    "### 2. 运行下面的python语句，将生成的df2中的所有的值保留两位小数并转为字符串格式"
   ]
  },
  {
   "cell_type": "code",
   "execution_count": 4,
   "metadata": {
    "colab": {
     "base_uri": "https://localhost:8080/",
     "height": 206
    },
    "id": "dT4FOpl82Fxs",
    "outputId": "e4f85f0e-ceb4-4f33-fdb4-c90bb1f51170"
   },
   "outputs": [
    {
     "data": {
      "text/html": [
       "<div>\n",
       "<style scoped>\n",
       "    .dataframe tbody tr th:only-of-type {\n",
       "        vertical-align: middle;\n",
       "    }\n",
       "\n",
       "    .dataframe tbody tr th {\n",
       "        vertical-align: top;\n",
       "    }\n",
       "\n",
       "    .dataframe thead th {\n",
       "        text-align: right;\n",
       "    }\n",
       "</style>\n",
       "<table border=\"1\" class=\"dataframe\">\n",
       "  <thead>\n",
       "    <tr style=\"text-align: right;\">\n",
       "      <th></th>\n",
       "      <th>A</th>\n",
       "      <th>B</th>\n",
       "      <th>C</th>\n",
       "      <th>D</th>\n",
       "      <th>E</th>\n",
       "    </tr>\n",
       "  </thead>\n",
       "  <tbody>\n",
       "    <tr>\n",
       "      <th>0</th>\n",
       "      <td>-1.179707</td>\n",
       "      <td>0.357859</td>\n",
       "      <td>-0.542054</td>\n",
       "      <td>-0.859705</td>\n",
       "      <td>1.529432</td>\n",
       "    </tr>\n",
       "    <tr>\n",
       "      <th>1</th>\n",
       "      <td>-1.150735</td>\n",
       "      <td>1.272478</td>\n",
       "      <td>-0.084314</td>\n",
       "      <td>0.784160</td>\n",
       "      <td>0.852390</td>\n",
       "    </tr>\n",
       "    <tr>\n",
       "      <th>2</th>\n",
       "      <td>1.430729</td>\n",
       "      <td>0.196829</td>\n",
       "      <td>-0.029194</td>\n",
       "      <td>-2.285601</td>\n",
       "      <td>1.327765</td>\n",
       "    </tr>\n",
       "    <tr>\n",
       "      <th>3</th>\n",
       "      <td>0.464788</td>\n",
       "      <td>0.770465</td>\n",
       "      <td>0.049910</td>\n",
       "      <td>-0.898389</td>\n",
       "      <td>-0.558028</td>\n",
       "    </tr>\n",
       "    <tr>\n",
       "      <th>4</th>\n",
       "      <td>0.395835</td>\n",
       "      <td>-0.129080</td>\n",
       "      <td>0.492206</td>\n",
       "      <td>0.305028</td>\n",
       "      <td>0.574559</td>\n",
       "    </tr>\n",
       "  </tbody>\n",
       "</table>\n",
       "</div>"
      ],
      "text/plain": [
       "          A         B         C         D         E\n",
       "0 -1.179707  0.357859 -0.542054 -0.859705  1.529432\n",
       "1 -1.150735  1.272478 -0.084314  0.784160  0.852390\n",
       "2  1.430729  0.196829 -0.029194 -2.285601  1.327765\n",
       "3  0.464788  0.770465  0.049910 -0.898389 -0.558028\n",
       "4  0.395835 -0.129080  0.492206  0.305028  0.574559"
      ]
     },
     "execution_count": 4,
     "metadata": {},
     "output_type": "execute_result"
    }
   ],
   "source": [
    "\n",
    "df2 = pd.DataFrame(\n",
    "    {\n",
    "        \"A\":np.random.randn(5),\n",
    "        \"B\":np.random.randn(5),\n",
    "        \"C\":np.random.randn(5),\n",
    "        \"D\":np.random.randn(5),\n",
    "        \"E\":np.random.randn(5),\n",
    "    }\n",
    ")\n",
    "\n",
    "df2"
   ]
  },
  {
   "cell_type": "markdown",
   "metadata": {
    "id": "N-943MRF2Fxu"
   },
   "source": [
    "### 【Ans】2"
   ]
  },
  {
   "cell_type": "code",
   "execution_count": 5,
   "metadata": {
    "colab": {
     "base_uri": "https://localhost:8080/",
     "height": 206
    },
    "id": "5ZQoGtVe2Fxu",
    "outputId": "547c2edb-2b16-4385-e8d7-8b00865551fe"
   },
   "outputs": [
    {
     "data": {
      "text/html": [
       "<div>\n",
       "<style scoped>\n",
       "    .dataframe tbody tr th:only-of-type {\n",
       "        vertical-align: middle;\n",
       "    }\n",
       "\n",
       "    .dataframe tbody tr th {\n",
       "        vertical-align: top;\n",
       "    }\n",
       "\n",
       "    .dataframe thead th {\n",
       "        text-align: right;\n",
       "    }\n",
       "</style>\n",
       "<table border=\"1\" class=\"dataframe\">\n",
       "  <thead>\n",
       "    <tr style=\"text-align: right;\">\n",
       "      <th></th>\n",
       "      <th>A</th>\n",
       "      <th>B</th>\n",
       "      <th>C</th>\n",
       "      <th>D</th>\n",
       "      <th>E</th>\n",
       "    </tr>\n",
       "  </thead>\n",
       "  <tbody>\n",
       "    <tr>\n",
       "      <th>0</th>\n",
       "      <td>-1.18</td>\n",
       "      <td>0.36</td>\n",
       "      <td>-0.54</td>\n",
       "      <td>-0.86</td>\n",
       "      <td>1.53</td>\n",
       "    </tr>\n",
       "    <tr>\n",
       "      <th>1</th>\n",
       "      <td>-1.15</td>\n",
       "      <td>1.27</td>\n",
       "      <td>-0.08</td>\n",
       "      <td>0.78</td>\n",
       "      <td>0.85</td>\n",
       "    </tr>\n",
       "    <tr>\n",
       "      <th>2</th>\n",
       "      <td>1.43</td>\n",
       "      <td>0.2</td>\n",
       "      <td>-0.03</td>\n",
       "      <td>-2.29</td>\n",
       "      <td>1.33</td>\n",
       "    </tr>\n",
       "    <tr>\n",
       "      <th>3</th>\n",
       "      <td>0.46</td>\n",
       "      <td>0.77</td>\n",
       "      <td>0.05</td>\n",
       "      <td>-0.9</td>\n",
       "      <td>-0.56</td>\n",
       "    </tr>\n",
       "    <tr>\n",
       "      <th>4</th>\n",
       "      <td>0.4</td>\n",
       "      <td>-0.13</td>\n",
       "      <td>0.49</td>\n",
       "      <td>0.31</td>\n",
       "      <td>0.57</td>\n",
       "    </tr>\n",
       "  </tbody>\n",
       "</table>\n",
       "</div>"
      ],
      "text/plain": [
       "       A      B      C      D      E\n",
       "0  -1.18   0.36  -0.54  -0.86   1.53\n",
       "1  -1.15   1.27  -0.08   0.78   0.85\n",
       "2   1.43    0.2  -0.03  -2.29   1.33\n",
       "3   0.46   0.77   0.05   -0.9  -0.56\n",
       "4    0.4  -0.13   0.49   0.31   0.57"
      ]
     },
     "execution_count": 5,
     "metadata": {},
     "output_type": "execute_result"
    }
   ],
   "source": [
    "df2_str = df2.round(2).astype(str)\n",
    "df2_str"
   ]
  },
  {
   "cell_type": "markdown",
   "metadata": {
    "id": "uQNIUne_2Fxv"
   },
   "source": [
    "### 3.将以下两个变量的值进行交换"
   ]
  },
  {
   "cell_type": "code",
   "execution_count": 6,
   "metadata": {
    "colab": {
     "base_uri": "https://localhost:8080/",
     "height": 363
    },
    "id": "Ya4D0P-s2Fxw",
    "outputId": "1761f471-7091-49fe-aa39-2f154bc31244"
   },
   "outputs": [
    {
     "name": "stdout",
     "output_type": "stream",
     "text": [
      "20\n",
      "30\n"
     ]
    }
   ],
   "source": [
    "a = 20\n",
    "b = 30\n",
    "print(a)\n",
    "print(b)"
   ]
  },
  {
   "cell_type": "markdown",
   "metadata": {
    "id": "QLaYGeFX2Fxx"
   },
   "source": [
    "### 【Ans】3"
   ]
  },
  {
   "cell_type": "code",
   "execution_count": 7,
   "metadata": {
    "colab": {
     "base_uri": "https://localhost:8080/",
     "height": 363
    },
    "id": "0gndHpg-2Fxy",
    "outputId": "8ef09e3f-3cd6-44b6-ff56-f9c84c5a733a"
   },
   "outputs": [],
   "source": [
    "a,b=b,a"
   ]
  },
  {
   "cell_type": "code",
   "execution_count": 8,
   "metadata": {
    "colab": {
     "base_uri": "https://localhost:8080/",
     "height": 175
    },
    "id": "voxBmwbD5H3O",
    "outputId": "ff70bc2e-8615-40f5-ce6d-28c4f75fadf7"
   },
   "outputs": [
    {
     "name": "stdout",
     "output_type": "stream",
     "text": [
      "30\n",
      "20\n"
     ]
    }
   ],
   "source": [
    "print(a)\n",
    "print(b)"
   ]
  },
  {
   "cell_type": "markdown",
   "metadata": {
    "id": "vTEBeWVK2Fxy"
   },
   "source": [
    "### 4. 运行下面的python语句，df4为股票日度收益模拟数据，试计算股票每天的过去3日指数加权移动平均（半衰期=3, 缺失值以上一日结果填充）"
   ]
  },
  {
   "cell_type": "code",
   "execution_count": 9,
   "metadata": {
    "colab": {
     "base_uri": "https://localhost:8080/",
     "height": 739
    },
    "id": "mcUeUkoA2Fxz",
    "outputId": "cb8669e2-3d02-47a5-9711-556f4b43b5aa"
   },
   "outputs": [
    {
     "data": {
      "text/html": [
       "<div>\n",
       "<style scoped>\n",
       "    .dataframe tbody tr th:only-of-type {\n",
       "        vertical-align: middle;\n",
       "    }\n",
       "\n",
       "    .dataframe tbody tr th {\n",
       "        vertical-align: top;\n",
       "    }\n",
       "\n",
       "    .dataframe thead th {\n",
       "        text-align: right;\n",
       "    }\n",
       "</style>\n",
       "<table border=\"1\" class=\"dataframe\">\n",
       "  <thead>\n",
       "    <tr style=\"text-align: right;\">\n",
       "      <th></th>\n",
       "      <th>stock</th>\n",
       "      <th>date</th>\n",
       "      <th>daily_ret</th>\n",
       "    </tr>\n",
       "  </thead>\n",
       "  <tbody>\n",
       "    <tr>\n",
       "      <th>0</th>\n",
       "      <td>A</td>\n",
       "      <td>20210104</td>\n",
       "      <td>0.088203</td>\n",
       "    </tr>\n",
       "    <tr>\n",
       "      <th>1</th>\n",
       "      <td>B</td>\n",
       "      <td>20210104</td>\n",
       "      <td>0.020008</td>\n",
       "    </tr>\n",
       "    <tr>\n",
       "      <th>2</th>\n",
       "      <td>C</td>\n",
       "      <td>20210104</td>\n",
       "      <td>0.048937</td>\n",
       "    </tr>\n",
       "    <tr>\n",
       "      <th>3</th>\n",
       "      <td>A</td>\n",
       "      <td>20210102</td>\n",
       "      <td>0.112045</td>\n",
       "    </tr>\n",
       "    <tr>\n",
       "      <th>4</th>\n",
       "      <td>B</td>\n",
       "      <td>20210102</td>\n",
       "      <td>0.093378</td>\n",
       "    </tr>\n",
       "    <tr>\n",
       "      <th>5</th>\n",
       "      <td>C</td>\n",
       "      <td>20210102</td>\n",
       "      <td>-0.048864</td>\n",
       "    </tr>\n",
       "    <tr>\n",
       "      <th>6</th>\n",
       "      <td>A</td>\n",
       "      <td>20210103</td>\n",
       "      <td>0.047504</td>\n",
       "    </tr>\n",
       "    <tr>\n",
       "      <th>7</th>\n",
       "      <td>C</td>\n",
       "      <td>20210103</td>\n",
       "      <td>-0.007568</td>\n",
       "    </tr>\n",
       "    <tr>\n",
       "      <th>8</th>\n",
       "      <td>A</td>\n",
       "      <td>20210101</td>\n",
       "      <td>-0.005161</td>\n",
       "    </tr>\n",
       "    <tr>\n",
       "      <th>9</th>\n",
       "      <td>B</td>\n",
       "      <td>20210101</td>\n",
       "      <td>0.020530</td>\n",
       "    </tr>\n",
       "    <tr>\n",
       "      <th>10</th>\n",
       "      <td>C</td>\n",
       "      <td>20210101</td>\n",
       "      <td>0.007202</td>\n",
       "    </tr>\n",
       "    <tr>\n",
       "      <th>11</th>\n",
       "      <td>A</td>\n",
       "      <td>20210105</td>\n",
       "      <td>0.072714</td>\n",
       "    </tr>\n",
       "    <tr>\n",
       "      <th>12</th>\n",
       "      <td>B</td>\n",
       "      <td>20210105</td>\n",
       "      <td>0.038052</td>\n",
       "    </tr>\n",
       "    <tr>\n",
       "      <th>13</th>\n",
       "      <td>C</td>\n",
       "      <td>20210105</td>\n",
       "      <td>0.006084</td>\n",
       "    </tr>\n",
       "    <tr>\n",
       "      <th>14</th>\n",
       "      <td>D</td>\n",
       "      <td>20210102</td>\n",
       "      <td>0.022193</td>\n",
       "    </tr>\n",
       "    <tr>\n",
       "      <th>15</th>\n",
       "      <td>D</td>\n",
       "      <td>20210103</td>\n",
       "      <td>0.016684</td>\n",
       "    </tr>\n",
       "    <tr>\n",
       "      <th>16</th>\n",
       "      <td>D</td>\n",
       "      <td>20210104</td>\n",
       "      <td>0.074704</td>\n",
       "    </tr>\n",
       "    <tr>\n",
       "      <th>17</th>\n",
       "      <td>D</td>\n",
       "      <td>20210105</td>\n",
       "      <td>-0.010258</td>\n",
       "    </tr>\n",
       "    <tr>\n",
       "      <th>18</th>\n",
       "      <td>A</td>\n",
       "      <td>20210106</td>\n",
       "      <td>0.015653</td>\n",
       "    </tr>\n",
       "    <tr>\n",
       "      <th>19</th>\n",
       "      <td>B</td>\n",
       "      <td>20210106</td>\n",
       "      <td>-0.042705</td>\n",
       "    </tr>\n",
       "    <tr>\n",
       "      <th>20</th>\n",
       "      <td>C</td>\n",
       "      <td>20210106</td>\n",
       "      <td>-0.127649</td>\n",
       "    </tr>\n",
       "    <tr>\n",
       "      <th>21</th>\n",
       "      <td>D</td>\n",
       "      <td>20210106</td>\n",
       "      <td>0.032681</td>\n",
       "    </tr>\n",
       "  </tbody>\n",
       "</table>\n",
       "</div>"
      ],
      "text/plain": [
       "   stock      date  daily_ret\n",
       "0      A  20210104   0.088203\n",
       "1      B  20210104   0.020008\n",
       "2      C  20210104   0.048937\n",
       "3      A  20210102   0.112045\n",
       "4      B  20210102   0.093378\n",
       "5      C  20210102  -0.048864\n",
       "6      A  20210103   0.047504\n",
       "7      C  20210103  -0.007568\n",
       "8      A  20210101  -0.005161\n",
       "9      B  20210101   0.020530\n",
       "10     C  20210101   0.007202\n",
       "11     A  20210105   0.072714\n",
       "12     B  20210105   0.038052\n",
       "13     C  20210105   0.006084\n",
       "14     D  20210102   0.022193\n",
       "15     D  20210103   0.016684\n",
       "16     D  20210104   0.074704\n",
       "17     D  20210105  -0.010258\n",
       "18     A  20210106   0.015653\n",
       "19     B  20210106  -0.042705\n",
       "20     C  20210106  -0.127649\n",
       "21     D  20210106   0.032681"
      ]
     },
     "execution_count": 9,
     "metadata": {},
     "output_type": "execute_result"
    }
   ],
   "source": [
    "np.random.seed(0)\n",
    "\n",
    "df4 = pd.DataFrame({\n",
    "    \"stock\":['A', 'B', 'C', 'A', 'B','C','A','C','A','B','C','A','B','C','D','D','D','D','A','B','C','D'],\n",
    "    \"date\":['20210104','20210104','20210104','20210102','20210102','20210102',\n",
    "            '20210103', '20210103', '20210101','20210101','20210101',\n",
    "            '20210105','20210105','20210105','20210102','20210103','20210104','20210105', \n",
    "            '20210106', '20210106', '20210106','20210106'],\n",
    "    \"daily_ret\":np.random.normal(0,0.05,22)})\n",
    "\n",
    "\n",
    "df4"
   ]
  },
  {
   "cell_type": "markdown",
   "metadata": {
    "id": "pGSC0eS22Fx0"
   },
   "source": [
    "### 【Ans】4"
   ]
  },
  {
   "cell_type": "code",
   "execution_count": 10,
   "metadata": {
    "colab": {
     "base_uri": "https://localhost:8080/"
    },
    "id": "SUbLj5Pp2Fx0",
    "outputId": "ca96f26f-1d19-4549-e04b-213247113fd4"
   },
   "outputs": [
    {
     "name": "stderr",
     "output_type": "stream",
     "text": [
      "/tmp/ipykernel_2945/1237876383.py:2: FutureWarning: Not prepending group keys to the result index of transform-like apply. In the future, the group keys will be included in the index, regardless of whether the applied function returns a like-indexed object.\n",
      "To preserve the previous behavior, use\n",
      "\n",
      "\t>>> .groupby(..., group_keys=False)\n",
      "\n",
      "To adopt the future behavior and silence this warning, use \n",
      "\n",
      "\t>>> .groupby(..., group_keys=True)\n",
      "  df4['ewm'] = df4.groupby('stock')['daily_ret'].apply(lambda x: x.ewm(span=3).mean())\n"
     ]
    },
    {
     "data": {
      "text/html": [
       "<div>\n",
       "<style scoped>\n",
       "    .dataframe tbody tr th:only-of-type {\n",
       "        vertical-align: middle;\n",
       "    }\n",
       "\n",
       "    .dataframe tbody tr th {\n",
       "        vertical-align: top;\n",
       "    }\n",
       "\n",
       "    .dataframe thead th {\n",
       "        text-align: right;\n",
       "    }\n",
       "</style>\n",
       "<table border=\"1\" class=\"dataframe\">\n",
       "  <thead>\n",
       "    <tr style=\"text-align: right;\">\n",
       "      <th></th>\n",
       "      <th>stock</th>\n",
       "      <th>date</th>\n",
       "      <th>daily_ret</th>\n",
       "      <th>ewm</th>\n",
       "    </tr>\n",
       "  </thead>\n",
       "  <tbody>\n",
       "    <tr>\n",
       "      <th>0</th>\n",
       "      <td>A</td>\n",
       "      <td>20210104</td>\n",
       "      <td>0.088203</td>\n",
       "      <td>0.088203</td>\n",
       "    </tr>\n",
       "    <tr>\n",
       "      <th>1</th>\n",
       "      <td>B</td>\n",
       "      <td>20210104</td>\n",
       "      <td>0.020008</td>\n",
       "      <td>0.020008</td>\n",
       "    </tr>\n",
       "    <tr>\n",
       "      <th>2</th>\n",
       "      <td>C</td>\n",
       "      <td>20210104</td>\n",
       "      <td>0.048937</td>\n",
       "      <td>0.048937</td>\n",
       "    </tr>\n",
       "    <tr>\n",
       "      <th>3</th>\n",
       "      <td>A</td>\n",
       "      <td>20210102</td>\n",
       "      <td>0.112045</td>\n",
       "      <td>0.104097</td>\n",
       "    </tr>\n",
       "    <tr>\n",
       "      <th>4</th>\n",
       "      <td>B</td>\n",
       "      <td>20210102</td>\n",
       "      <td>0.093378</td>\n",
       "      <td>0.068921</td>\n",
       "    </tr>\n",
       "    <tr>\n",
       "      <th>5</th>\n",
       "      <td>C</td>\n",
       "      <td>20210102</td>\n",
       "      <td>-0.048864</td>\n",
       "      <td>-0.016264</td>\n",
       "    </tr>\n",
       "    <tr>\n",
       "      <th>6</th>\n",
       "      <td>A</td>\n",
       "      <td>20210103</td>\n",
       "      <td>0.047504</td>\n",
       "      <td>0.071759</td>\n",
       "    </tr>\n",
       "    <tr>\n",
       "      <th>7</th>\n",
       "      <td>C</td>\n",
       "      <td>20210103</td>\n",
       "      <td>-0.007568</td>\n",
       "      <td>-0.011295</td>\n",
       "    </tr>\n",
       "    <tr>\n",
       "      <th>8</th>\n",
       "      <td>A</td>\n",
       "      <td>20210101</td>\n",
       "      <td>-0.005161</td>\n",
       "      <td>0.030735</td>\n",
       "    </tr>\n",
       "    <tr>\n",
       "      <th>9</th>\n",
       "      <td>B</td>\n",
       "      <td>20210101</td>\n",
       "      <td>0.020530</td>\n",
       "      <td>0.041269</td>\n",
       "    </tr>\n",
       "    <tr>\n",
       "      <th>10</th>\n",
       "      <td>C</td>\n",
       "      <td>20210101</td>\n",
       "      <td>0.007202</td>\n",
       "      <td>-0.001430</td>\n",
       "    </tr>\n",
       "    <tr>\n",
       "      <th>11</th>\n",
       "      <td>A</td>\n",
       "      <td>20210105</td>\n",
       "      <td>0.072714</td>\n",
       "      <td>0.052401</td>\n",
       "    </tr>\n",
       "    <tr>\n",
       "      <th>12</th>\n",
       "      <td>B</td>\n",
       "      <td>20210105</td>\n",
       "      <td>0.038052</td>\n",
       "      <td>0.039553</td>\n",
       "    </tr>\n",
       "    <tr>\n",
       "      <th>13</th>\n",
       "      <td>C</td>\n",
       "      <td>20210105</td>\n",
       "      <td>0.006084</td>\n",
       "      <td>0.002448</td>\n",
       "    </tr>\n",
       "    <tr>\n",
       "      <th>14</th>\n",
       "      <td>D</td>\n",
       "      <td>20210102</td>\n",
       "      <td>0.022193</td>\n",
       "      <td>0.022193</td>\n",
       "    </tr>\n",
       "    <tr>\n",
       "      <th>15</th>\n",
       "      <td>D</td>\n",
       "      <td>20210103</td>\n",
       "      <td>0.016684</td>\n",
       "      <td>0.018520</td>\n",
       "    </tr>\n",
       "    <tr>\n",
       "      <th>16</th>\n",
       "      <td>D</td>\n",
       "      <td>20210104</td>\n",
       "      <td>0.074704</td>\n",
       "      <td>0.050625</td>\n",
       "    </tr>\n",
       "    <tr>\n",
       "      <th>17</th>\n",
       "      <td>D</td>\n",
       "      <td>20210105</td>\n",
       "      <td>-0.010258</td>\n",
       "      <td>0.018154</td>\n",
       "    </tr>\n",
       "    <tr>\n",
       "      <th>18</th>\n",
       "      <td>A</td>\n",
       "      <td>20210106</td>\n",
       "      <td>0.015653</td>\n",
       "      <td>0.033736</td>\n",
       "    </tr>\n",
       "    <tr>\n",
       "      <th>19</th>\n",
       "      <td>B</td>\n",
       "      <td>20210106</td>\n",
       "      <td>-0.042705</td>\n",
       "      <td>-0.002903</td>\n",
       "    </tr>\n",
       "    <tr>\n",
       "      <th>20</th>\n",
       "      <td>C</td>\n",
       "      <td>20210106</td>\n",
       "      <td>-0.127649</td>\n",
       "      <td>-0.063633</td>\n",
       "    </tr>\n",
       "    <tr>\n",
       "      <th>21</th>\n",
       "      <td>D</td>\n",
       "      <td>20210106</td>\n",
       "      <td>0.032681</td>\n",
       "      <td>0.025652</td>\n",
       "    </tr>\n",
       "  </tbody>\n",
       "</table>\n",
       "</div>"
      ],
      "text/plain": [
       "   stock      date  daily_ret       ewm\n",
       "0      A  20210104   0.088203  0.088203\n",
       "1      B  20210104   0.020008  0.020008\n",
       "2      C  20210104   0.048937  0.048937\n",
       "3      A  20210102   0.112045  0.104097\n",
       "4      B  20210102   0.093378  0.068921\n",
       "5      C  20210102  -0.048864 -0.016264\n",
       "6      A  20210103   0.047504  0.071759\n",
       "7      C  20210103  -0.007568 -0.011295\n",
       "8      A  20210101  -0.005161  0.030735\n",
       "9      B  20210101   0.020530  0.041269\n",
       "10     C  20210101   0.007202 -0.001430\n",
       "11     A  20210105   0.072714  0.052401\n",
       "12     B  20210105   0.038052  0.039553\n",
       "13     C  20210105   0.006084  0.002448\n",
       "14     D  20210102   0.022193  0.022193\n",
       "15     D  20210103   0.016684  0.018520\n",
       "16     D  20210104   0.074704  0.050625\n",
       "17     D  20210105  -0.010258  0.018154\n",
       "18     A  20210106   0.015653  0.033736\n",
       "19     B  20210106  -0.042705 -0.002903\n",
       "20     C  20210106  -0.127649 -0.063633\n",
       "21     D  20210106   0.032681  0.025652"
      ]
     },
     "execution_count": 10,
     "metadata": {},
     "output_type": "execute_result"
    }
   ],
   "source": [
    "# 计算df4 每天的过去3日指数加权移动平均（半衰期=3, 缺失值以上一日结果填充）\n",
    "df4['ewm'] = df4.groupby('stock')['daily_ret'].apply(lambda x: x.ewm(span=3).mean())\n",
    "df4"
   ]
  },
  {
   "cell_type": "markdown",
   "metadata": {
    "id": "XjR4u8PR2Fx1"
   },
   "source": [
    "### 5.把一张100元面值的纸币，换成1，2，5，10，20，50元面值的纸币，共有多少种换法。\n",
    "### 如果限制换来的纸币总数不能超过N张，又有多少种换法？"
   ]
  },
  {
   "cell_type": "markdown",
   "metadata": {
    "id": "aKY6x6mt2Fx1"
   },
   "source": [
    "### 【Ans】5"
   ]
  },
  {
   "cell_type": "code",
   "execution_count": 11,
   "metadata": {
    "colab": {
     "base_uri": "https://localhost:8080/"
    },
    "id": "uvmLWSb_2Fx2",
    "outputId": "1d09b28f-22d6-4c11-90cd-934d2a39cd34"
   },
   "outputs": [
    {
     "name": "stdout",
     "output_type": "stream",
     "text": [
      "343\n"
     ]
    }
   ],
   "source": [
    "def change(max_num:int = 0)->int:\n",
    "    \"\"\"\n",
    "        计算100元换成其他面额纸币的换法数量。\n",
    "        @param max_num: 换来的纸币总数最大值,为0则表示不限\n",
    "        @return: 满足要求的换法数量\n",
    "    \"\"\"\n",
    "    count = 0\n",
    "    max_num = 100 if max_num == 0 else max_num\n",
    "    coins = [1, 5, 10, 20, 50]\n",
    "    dp: List[List[int]] = [[0] * (max_num + 1) for _ in range(len(coins))]\n",
    "    for i in range(len(coins)):\n",
    "        dp[i][0] = 1\n",
    "    for i in range(len(coins)):\n",
    "        for j in range(1, max_num + 1):\n",
    "            if j >= coins[i]:\n",
    "                dp[i][j] = dp[i - 1][j] + dp[i][j - coins[i]]\n",
    "            else:\n",
    "                dp[i][j] = dp[i - 1][j]\n",
    "    return dp[-1][-1]\n",
    "    # return count\n",
    "\n",
    "print(change(100))"
   ]
  },
  {
   "cell_type": "markdown",
   "metadata": {
    "id": "vqe3L56u2Fx2"
   },
   "source": [
    "### 6.构造一个函数，实现以下功能：返回斐波那契数列中第n项的值【要求算法复杂度尽可能低】"
   ]
  },
  {
   "cell_type": "markdown",
   "metadata": {
    "id": "UauSAcY32Fx2"
   },
   "source": [
    "### 【Ans】6"
   ]
  },
  {
   "cell_type": "code",
   "execution_count": 12,
   "metadata": {
    "id": "qcex8hVE2Fx3"
   },
   "outputs": [],
   "source": [
    "def func6(n:int):\n",
    "    fib = [0,1]\n",
    "    if n <=2:\n",
    "        return fib[n-1]\n",
    "    for i in range(2,n):\n",
    "        fib.append(fib[i-1]+fib[i-2])\n",
    "    return fib[n-1]"
   ]
  },
  {
   "cell_type": "code",
   "execution_count": 13,
   "metadata": {
    "colab": {
     "base_uri": "https://localhost:8080/"
    },
    "id": "phVhnMoO2Fx4",
    "outputId": "5619b335-1fd3-449f-de80-4b42f2e1f94b"
   },
   "outputs": [
    {
     "name": "stdout",
     "output_type": "stream",
     "text": [
      "0\n",
      "34\n",
      "514229\n",
      "218922995834555169026\n"
     ]
    }
   ],
   "source": [
    "# 可以用给出的lst来测试函数\n",
    "test_list = [1, 10, 30, 100]\n",
    "for i in test_list:\n",
    "    print(func6(i))"
   ]
  },
  {
   "cell_type": "markdown",
   "metadata": {
    "id": "AZszv6MQ2Fx5"
   },
   "source": [
    "### 7.提供一个格式为pd.Series的价格序列，计算最大回撤和次大回撤（注意两者时间区间不能有重叠），以及两者的开始和结束时间【要求算法复杂度尽可能低，较低的复杂度有加分】"
   ]
  },
  {
   "cell_type": "markdown",
   "metadata": {
    "id": "DShfV_6U2Fx5"
   },
   "source": [
    "### 【Ans】7"
   ]
  },
  {
   "cell_type": "code",
   "execution_count": 14,
   "metadata": {
    "id": "-62RTVXm2Fx5"
   },
   "outputs": [],
   "source": [
    "def func8(series:pd.Series)->pd.Series:\n",
    "    \"\"\"\n",
    "        计算series的最大回撤和次大回撤以及最大回撤的起止时间和次大回撤的起止时间\n",
    "        @param series: pd.Series\n",
    "        @return pd.Series\n",
    "    \"\"\"\n",
    "    max_drawdown, max_drawdown2 = 0, 0\n",
    "    max_drawdown_start, max_drawdown_end = 0, 0\n",
    "    j = np.argmax(np.maximum.accumulate(series) - series)\n",
    "    if j == 0:\n",
    "        max_drawdown_start = 0\n",
    "    else:\n",
    "        max_drawdown_start = np.argmax(series[:j])\n",
    "    max_drawdown_end = j\n",
    "    max_drawdown = series[max_drawdown_start] - series[max_drawdown_end]\n",
    "    series2 = series.copy()\n",
    "    series2[max_drawdown_start] = series2[max_drawdown_end]\n",
    "    j2 = np.argmax(np.maximum.accumulate(series2) - series2)\n",
    "    if j2 == 0:\n",
    "        max_drawdown_start2 = 0\n",
    "    else:\n",
    "        max_drawdown_start2 = np.argmax(series2[:j2])\n",
    "    max_drawdown_end2 = j2\n",
    "    max_drawdown2 = series2[max_drawdown_start2] - series2[max_drawdown_end2]\n",
    "    return pd.Series([max_drawdown, max_drawdown2, max_drawdown_start, max_drawdown_end, max_drawdown_start2, max_drawdown_end2], index=['max_drawdown', 'max_drawdown2', 'max_drawdown_start', 'max_drawdown_end', 'max_drawdown_start2', 'max_drawdown_end2'])"
   ]
  },
  {
   "cell_type": "code",
   "execution_count": 15,
   "metadata": {
    "id": "N0RGVd-v2Fx5",
    "outputId": "d8991bbc-e3ae-40c1-b38e-cd37948c82da"
   },
   "outputs": [
    {
     "data": {
      "text/plain": [
       "2018-03-07    1.653590\n",
       "2018-03-08    1.115007\n",
       "2018-03-09    1.950283\n",
       "2018-03-10    1.482191\n",
       "2018-03-11    1.872475\n",
       "Freq: D, dtype: float64"
      ]
     },
     "execution_count": 15,
     "metadata": {},
     "output_type": "execute_result"
    }
   ],
   "source": [
    "# 可以用给出的series来测试函数\n",
    "np.random.seed(1000)\n",
    "series = pd.Series(np.random.rand(300)+1,index = pd.date_range(end = '12/31/2018', periods = 300))\n",
    "series.head()"
   ]
  },
  {
   "cell_type": "code",
   "execution_count": 16,
   "metadata": {
    "id": "SizhU2w82Fx6"
   },
   "outputs": [
    {
     "name": "stdout",
     "output_type": "stream",
     "text": [
      "max_drawdown             0.995555\n",
      "max_drawdown2            0.993626\n",
      "max_drawdown_start     205.000000\n",
      "max_drawdown_end       249.000000\n",
      "max_drawdown_start2    193.000000\n",
      "max_drawdown_end2      205.000000\n",
      "dtype: float64\n"
     ]
    }
   ],
   "source": [
    "print(func8(series))"
   ]
  }
 ],
 "metadata": {
  "colab": {
   "collapsed_sections": [],
   "name": "嘉沃资管量化研究员编程笔试题.ipynb",
   "provenance": []
  },
  "kernelspec": {
   "display_name": "Python 3.8.10 64-bit",
   "language": "python",
   "name": "python3"
  },
  "language_info": {
   "codemirror_mode": {
    "name": "ipython",
    "version": 3
   },
   "file_extension": ".py",
   "mimetype": "text/x-python",
   "name": "python",
   "nbconvert_exporter": "python",
   "pygments_lexer": "ipython3",
   "version": "3.8.10"
  },
  "vscode": {
   "interpreter": {
    "hash": "31f2aee4e71d21fbe5cf8b01ff0e069b9275f58929596ceb00d14d90e3e16cd6"
   }
  }
 },
 "nbformat": 4,
 "nbformat_minor": 1
}
